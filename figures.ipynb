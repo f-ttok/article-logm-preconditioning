{
 "cells": [
  {
   "cell_type": "code",
   "execution_count": 1,
   "id": "3372e8b6-dba2-44b6-97e7-df1806c6f195",
   "metadata": {},
   "outputs": [
    {
     "name": "stdout",
     "output_type": "stream",
     "text": [
      "Julia Version 1.11.1\n",
      "Commit 8f5b7ca12a (2024-10-16 10:53 UTC)\n",
      "Build Info:\n",
      "  Official https://julialang.org/ release\n",
      "Platform Info:\n",
      "  OS: Windows (x86_64-w64-mingw32)\n",
      "  CPU: 8 × Intel(R) Core(TM) i7-9700K CPU @ 3.60GHz\n",
      "  WORD_SIZE: 64\n",
      "  LLVM: libLLVM-16.0.6 (ORCJIT, skylake)\n",
      "Threads: 1 default, 0 interactive, 1 GC (on 8 virtual cores)\n",
      "Environment:\n",
      "  JULIA_DEPOT_PATH = E:\\Users\\tate\\.julia\n",
      "  JULIA_NUM_THREADS = \n",
      "  JULIA_PYTHONCALL_EXE = python\n"
     ]
    }
   ],
   "source": [
    "versioninfo()"
   ]
  },
  {
   "cell_type": "code",
   "execution_count": 2,
   "id": "954a05d1-9ca2-4d23-9c4a-7941fb4470a1",
   "metadata": {},
   "outputs": [
    {
     "name": "stderr",
     "output_type": "stream",
     "text": [
      "\u001b[32m\u001b[1m  Activating\u001b[22m\u001b[39m project at `e:\\Users\\tate\\Repo\\article-logm-preconditioning`\n"
     ]
    }
   ],
   "source": [
    "using Pkg\n",
    "Pkg.activate(\".\")"
   ]
  },
  {
   "cell_type": "code",
   "execution_count": 3,
   "id": "2a1aa855-97a6-4940-8ada-faca5a2a6f42",
   "metadata": {},
   "outputs": [],
   "source": [
    "using NLsolve\n",
    "using PythonPlot\n",
    "\n",
    "PythonPlot.matplotlib.rcParams[\"font.size\"] = 10\n",
    "PythonPlot.matplotlib.rcParams[\"axes.titlesize\"] = 10;"
   ]
  },
  {
   "cell_type": "code",
   "execution_count": 5,
   "id": "758063ba-167f-4193-8b4e-de42d63fefe1",
   "metadata": {},
   "outputs": [
    {
     "name": "stdout",
     "output_type": "stream",
     "text": [
      "GL_PGL = 130.9771533859376\n",
      "PGL_DE = 298816.86332724825\n",
      "ρ_PGL(GL_PGL) = 1.2187557270901928\n",
      "ρ_PGL(PGL_DE) = 0.4196758175053671\n"
     ]
    }
   ],
   "source": [
    "# This template is introduced at http://www.cas.cmc.osaka-u.ac.jp/~paoon/Lectures/2018-7Semester-AppliedMath9/04-nlsolve/\n",
    "function nls(func, params...; ini = [0.0])\n",
    "    if typeof(ini) <: Number\n",
    "        r = nlsolve((vout,vin)->vout[1]=func(vin[1],params...), [ini])\n",
    "        v = r.zero[1]\n",
    "    else\n",
    "        r = nlsolve((vout,vin)->vout .= func(vin,params...), ini)\n",
    "        v = r.zero\n",
    "    end\n",
    "    return v, r.f_converged\n",
    "end\n",
    "\n",
    "d0(λ) = asin(sqrt(\n",
    "    (log(λ)^2 + 2*π^2 - sqrt((log(λ)^2 + 2*π^2)^2 - 4*π^4)) / (2*π^2)\n",
    "))\n",
    "\n",
    "function get_interval(λ_max, λ_min, ϵ)\n",
    "    norm_A_minus_I = λ_max - 1\n",
    "    norm_A_inv = 1 / λ_min\n",
    "    ϵ_max = 3 * norm_A_minus_I * norm_A_inv / (1 + norm_A_inv)\n",
    "    ϵ = ϵ < ϵ_max ? ϵ : ϵ_max / 2\n",
    "\n",
    "    a = min(ϵ / 3 / norm_A_minus_I, 1 / 2 / norm_A_minus_I)\n",
    "    α = (log(a) - log1p(-a)) / 2 # = atanh(2a-1)\n",
    "    l = asinh(2 * α / pi)\n",
    "    \n",
    "    δ = a / norm_A_inv\n",
    "    b1 = 1 - δ\n",
    "    b2 = 2 * norm_A_inv / (2 * norm_A_inv + 1)\n",
    "    if b1 >= b2\n",
    "        β = (log1p(-δ) - log(δ))/2 # = atanh(2b1-1)\n",
    "    else\n",
    "        β = (log(b2) - log1p(-b2)) / 2 # = atanh(2b2-1)\n",
    "    end\n",
    "    r = asinh(2 * β / pi)\n",
    "    return r - l\n",
    "end\n",
    "\n",
    "get_interval(κ) = get_interval(sqrt(κ), 1/sqrt(κ), 1e-12)\n",
    "\n",
    "ρ_GL(κ) = 2 * log((κ^0.25 + 1) / (κ^0.25 - 1))\n",
    "ρ_DE(κ) = 2*π*d0(sqrt(κ)) / get_interval(κ)\n",
    "ρ_PGL(κ) = 2 * log((κ^0.125 + 1) / (κ^0.125 - 1)) / 2\n",
    "ρ_PDE(κ) = 2*π*d0(κ^(0.25)) / get_interval(κ) / 2\n",
    "\n",
    "GL_PGL = nls(log_κ -> ρ_GL(exp(log_κ)) - ρ_PGL(exp(log_κ)), ini=log(1e3))[1] |> exp\n",
    "PGL_DE = nls(log_κ -> ρ_DE(exp(log_κ)) - ρ_PGL(exp(log_κ)), ini=log(1e3))[1] |> exp\n",
    "\n",
    "@show GL_PGL\n",
    "@show PGL_DE\n",
    "@show ρ_PGL(GL_PGL)\n",
    "@show ρ_PGL(PGL_DE)\n",
    ";"
   ]
  },
  {
   "cell_type": "code",
   "execution_count": 8,
   "id": "01f572e9-3c42-4168-8c05-c9b4141d0769",
   "metadata": {},
   "outputs": [
    {
     "name": "stderr",
     "output_type": "stream",
     "text": [
      "sys:1: UserWarning: FigureCanvasAgg is non-interactive, and thus cannot be shown\n"
     ]
    }
   ],
   "source": [
    "κ = 10.0 .^ LinRange(0, 16, 201)\n",
    "\n",
    "fig, ax = subplots(1, 1, figsize=[10, 7]/2.7)\n",
    "ax.plot(κ, ρ_GL.(κ), label=\"GL\", c=\"coral\", ls=\"--\")\n",
    "ax.plot(κ, ρ_PGL.(κ), label=\"PGL\", c=\"orangered\")\n",
    "ax.plot(κ, ρ_DE.(κ), label=\"DE\", c=\"dodgerblue\", ls=\"--\")\n",
    "ax.plot(κ, ρ_PDE.(κ), label=\"PDE\", c=\"blue\")\n",
    "\n",
    "xy1 = (GL_PGL, ρ_PGL(GL_PGL))\n",
    "xy2 = (PGL_DE, ρ_PGL(PGL_DE))\n",
    "xyt1 = (GL_PGL*2, ρ_PGL(GL_PGL)*1.5)\n",
    "xyt2 = (PGL_DE*2, ρ_PGL(PGL_DE)*1.5)\n",
    "ax.annotate(\"\\$1.3\\\\times 10^2\\$\", xy1, xytext=xyt1, arrowprops=Dict(\"width\"=>1, \"headwidth\"=>0))\n",
    "ax.annotate(\"\\$3.0\\\\times 10^5\\$\", xy2, xytext=xyt2, arrowprops=Dict(\"width\"=>1, \"headwidth\"=>0))\n",
    "\n",
    "ax.set_xlabel(\"Condition number \\$\\\\kappa(A)\\$\")\n",
    "ax.set_ylabel(\"Convergence speed\")\n",
    "ax.set_xscale(\"log\")\n",
    "ax.set_yscale(\"log\")\n",
    "ax.set_xticks([1e0, 1e4, 1e8, 1e12, 1e16])\n",
    "ax.set_yticks([1e-3, 1e-2, 1e-1, 1e0, 1e1])\n",
    "ax.set_ylim(1e-1, 1e1)\n",
    "ax.legend(prop=Dict(\"family\"=>\"monospace\"))\n",
    "ax.grid()\n",
    "\n",
    "fig.tight_layout()\n",
    "fig.savefig(\"fig/convergence_speed.pdf\")\n",
    "plotshow()"
   ]
  }
 ],
 "metadata": {
  "kernelspec": {
   "display_name": "Julia 1.11.1",
   "language": "julia",
   "name": "julia-1.11"
  },
  "language_info": {
   "file_extension": ".jl",
   "mimetype": "application/julia",
   "name": "julia",
   "version": "1.11.1"
  }
 },
 "nbformat": 4,
 "nbformat_minor": 5
}
