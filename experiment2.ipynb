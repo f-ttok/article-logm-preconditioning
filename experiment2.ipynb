{
 "cells": [
  {
   "cell_type": "code",
   "execution_count": 1,
   "id": "312bf5f1-cd4d-496a-9024-a792c02361f9",
   "metadata": {},
   "outputs": [
    {
     "name": "stdout",
     "output_type": "stream",
     "text": [
      "Julia Version 1.11.1\n",
      "Commit 8f5b7ca12a (2024-10-16 10:53 UTC)\n",
      "Build Info:\n",
      "  Official https://julialang.org/ release\n",
      "Platform Info:\n",
      "  OS: Windows (x86_64-w64-mingw32)\n",
      "  CPU: 8 × Intel(R) Core(TM) i7-9700K CPU @ 3.60GHz\n",
      "  WORD_SIZE: 64\n",
      "  LLVM: libLLVM-16.0.6 (ORCJIT, skylake)\n",
      "Threads: 1 default, 0 interactive, 1 GC (on 8 virtual cores)\n",
      "Environment:\n",
      "  JULIA_DEPOT_PATH = E:\\Users\\tate\\.julia\n",
      "  JULIA_PYTHONCALL_EXE = python\n"
     ]
    }
   ],
   "source": [
    "versioninfo()"
   ]
  },
  {
   "cell_type": "code",
   "execution_count": 2,
   "id": "37d05bb2-3c42-4ef2-804c-a3311cf63b89",
   "metadata": {},
   "outputs": [
    {
     "name": "stderr",
     "output_type": "stream",
     "text": [
      "\u001b[32m\u001b[1m  Activating\u001b[22m\u001b[39m project at `E:\\Users\\tate\\Repo\\article-logm-preconditioning`\n"
     ]
    }
   ],
   "source": [
    "using Pkg\n",
    "Pkg.activate(\".\")"
   ]
  },
  {
   "cell_type": "code",
   "execution_count": 3,
   "id": "937d1a64-2604-43bb-bd02-dcd1b1a14db7",
   "metadata": {},
   "outputs": [
    {
     "name": "stderr",
     "output_type": "stream",
     "text": [
      "\u001b[36m\u001b[1m[ \u001b[22m\u001b[39m\u001b[36m\u001b[1mInfo: \u001b[22m\u001b[39mverify download of index files...\n",
      "\u001b[36m\u001b[1m[ \u001b[22m\u001b[39m\u001b[36m\u001b[1mInfo: \u001b[22m\u001b[39mreading database\n"
     ]
    },
    {
     "name": "stdout",
     "output_type": "stream",
     "text": [
      "EOFError()\n"
     ]
    },
    {
     "name": "stderr",
     "output_type": "stream",
     "text": [
      "\u001b[33m\u001b[1m┌ \u001b[22m\u001b[39m\u001b[33m\u001b[1mWarning: \u001b[22m\u001b[39mrecreating database file\n",
      "\u001b[33m\u001b[1m└ \u001b[22m\u001b[39m\u001b[90m@ MatrixDepot E:\\Users\\tate\\.julia\\packages\\MatrixDepot\\4S7Oa\\src\\download.jl:59\u001b[39m\n",
      "\u001b[36m\u001b[1m[ \u001b[22m\u001b[39m\u001b[36m\u001b[1mInfo: \u001b[22m\u001b[39mreading index files\n",
      "\u001b[36m\u001b[1m[ \u001b[22m\u001b[39m\u001b[36m\u001b[1mInfo: \u001b[22m\u001b[39madding metadata...\n",
      "\u001b[36m\u001b[1m[ \u001b[22m\u001b[39m\u001b[36m\u001b[1mInfo: \u001b[22m\u001b[39madding svd data...\n",
      "\u001b[36m\u001b[1m[ \u001b[22m\u001b[39m\u001b[36m\u001b[1mInfo: \u001b[22m\u001b[39mwriting database\n",
      "\u001b[33m\u001b[1m┌ \u001b[22m\u001b[39m\u001b[33m\u001b[1mWarning: \u001b[22m\u001b[39mexception during initialization: 'KeyError(MatrixDepot)'\n",
      "\u001b[33m\u001b[1m└ \u001b[22m\u001b[39m\u001b[90m@ MatrixDepot E:\\Users\\tate\\.julia\\packages\\MatrixDepot\\4S7Oa\\src\\MatrixDepot.jl:125\u001b[39m\n"
     ]
    }
   ],
   "source": [
    "using Dates\n",
    "using LinearAlgebra\n",
    "using Printf\n",
    "using SparseArrays\n",
    "\n",
    "using MatrixDepot # test matrices\n",
    "using ArnoldiMethod # to compute eigenvalues\n",
    "using LinearMaps # to compute eigenvalues\n",
    "using BenchmarkTools # to measure time"
   ]
  },
  {
   "cell_type": "code",
   "execution_count": 4,
   "id": "7a22cfaa-9845-4a85-b55d-e790ab7df70e",
   "metadata": {},
   "outputs": [
    {
     "data": {
      "text/plain": [
       "print_log (generic function with 2 methods)"
      ]
     },
     "execution_count": 4,
     "metadata": {},
     "output_type": "execute_result"
    }
   ],
   "source": [
    "function print_log(msg=\"\")\n",
    "    println(\"$(now())\\t$(msg)\")\n",
    "    flush(stdout)\n",
    "end"
   ]
  },
  {
   "cell_type": "code",
   "execution_count": 5,
   "id": "b7491557-e042-4e38-9465-4eb605a42f94",
   "metadata": {},
   "outputs": [],
   "source": [
    "include(\"src/SPDLogmPrecQuad.jl\")\n",
    "# using Revise\n",
    "using ..SPDLogmPrecQuad"
   ]
  },
  {
   "cell_type": "code",
   "execution_count": 6,
   "id": "a220082a-8f5d-4799-800d-ce5503923029",
   "metadata": {},
   "outputs": [],
   "source": [
    "matnames = [\n",
    "    \"HB/nos4\", # for check\n",
    "    \"MathWorks/Kuu\",\n",
    "    \"Norris/fv3\",\n",
    "    \"Lourakis/bundle1\",\n",
    "    \"Boeing/crystm02\",\n",
    "    \"ACUSIM/Pres_Poisson\",\n",
    "    \"UTEP/Dubcova1\",\n",
    "    \"Oberwolfach/gyro_m\",\n",
    "    \"Pothen/bodyy5\",\n",
    "    \"Pothen/bodyy6\"\n",
    "]\n",
    "\n",
    "algorithms = [:GL, :DE, :PGL, :PDE];"
   ]
  },
  {
   "cell_type": "code",
   "execution_count": 7,
   "id": "4c63676f-5ed6-441f-916c-9c2ae32b4b8e",
   "metadata": {},
   "outputs": [
    {
     "data": {
      "text/plain": [
       "compute_extreme_eigenvalues (generic function with 1 method)"
      ]
     },
     "execution_count": 7,
     "metadata": {},
     "output_type": "execute_result"
    }
   ],
   "source": [
    "function compute_extreme_eigenvalues(A)\n",
    "    decomp, history = partialschur(A, nev=5, which=:LM, tol=1e-5, maxdim=50)\n",
    "    λ_max = partialeigen(decomp)[1][5] |> Real\n",
    "    \n",
    "    F = factorize(A)\n",
    "    function f!(y, F, x)\n",
    "        y .= F \\ x\n",
    "        return y\n",
    "    end\n",
    "    lm = LinearMap{eltype(A)}((y, x) -> f!(y, F, x), size(A,1), issymmetric=true, isposdef=true)\n",
    "    decomp, history = partialschur(lm, nev=5, which=:LM, tol=1e-5, maxdim=50)\n",
    "    μ = partialeigen(decomp)[1]\n",
    "    λ_min = 1 / μ[5]\n",
    "\n",
    "    return λ_max, λ_min\n",
    "end"
   ]
  },
  {
   "cell_type": "code",
   "execution_count": 8,
   "id": "eb5cdad6-7886-45f8-b047-b59716060e99",
   "metadata": {},
   "outputs": [
    {
     "name": "stdout",
     "output_type": "stream",
     "text": [
      "2024-10-20T23:09:21.683\tstart!\n",
      "2024-10-20T23:09:22.101\t======= HB/nos4 ========\n",
      "2024-10-20T23:09:33.572\tn =    100, κ = 1.578e+03\n",
      "2024-10-20T23:09:33.573\t--- get #inv data ---\n",
      "2024-10-20T23:09:33.589\tmatname: HB/nos4, algorithm: GL\n",
      "2024-10-20T23:09:35.349\tmatname: HB/nos4, algorithm: DE\n",
      "2024-10-20T23:09:35.683\tmatname: HB/nos4, algorithm: PGL\n",
      "2024-10-20T23:09:35.793\tmatname: HB/nos4, algorithm: PDE\n",
      "2024-10-20T23:09:35.962\t--- get time data ---\n",
      "2024-10-20T23:09:35.963\tmatname: HB/nos4, algorithm: GL\n",
      "2024-10-20T23:09:47.442\tmatname: HB/nos4, algorithm: DE\n",
      "2024-10-20T23:09:58.497\tmatname: HB/nos4, algorithm: PGL\n",
      "2024-10-20T23:10:09.459\tmatname: HB/nos4, algorithm: PDE\n",
      "2024-10-20T23:10:20.408\t======= MathWorks/Kuu ========\n",
      "2024-10-20T23:10:20.626\tn =   7102, κ = 3.383e+04\n",
      "2024-10-20T23:10:20.626\t--- get #inv data ---\n",
      "2024-10-20T23:10:20.627\tmatname: MathWorks/Kuu, algorithm: GL\n",
      "2024-10-20T23:10:26.990\tmatname: MathWorks/Kuu, algorithm: DE\n",
      "2024-10-20T23:10:30.312\tmatname: MathWorks/Kuu, algorithm: PGL\n",
      "2024-10-20T23:10:33.537\tmatname: MathWorks/Kuu, algorithm: PDE\n",
      "2024-10-20T23:10:38.273\t--- get time data ---\n",
      "2024-10-20T23:10:38.273\tmatname: MathWorks/Kuu, algorithm: GL\n",
      "2024-10-20T23:10:57.881\tmatname: MathWorks/Kuu, algorithm: DE\n",
      "2024-10-20T23:11:19.111\tmatname: MathWorks/Kuu, algorithm: PGL\n",
      "2024-10-20T23:11:39.169\tmatname: MathWorks/Kuu, algorithm: PDE\n",
      "2024-10-20T23:12:09.115\t======= Norris/fv3 ========\n",
      "2024-10-20T23:12:10.003\tn =   9801, κ = 2.027e+03\n",
      "2024-10-20T23:12:10.004\t--- get #inv data ---\n",
      "2024-10-20T23:12:10.004\tmatname: Norris/fv3, algorithm: GL\n",
      "2024-10-20T23:12:10.561\tmatname: Norris/fv3, algorithm: DE\n",
      "2024-10-20T23:12:11.218\tmatname: Norris/fv3, algorithm: PGL\n",
      "2024-10-20T23:12:11.656\tmatname: Norris/fv3, algorithm: PDE\n",
      "2024-10-20T23:12:12.528\t--- get time data ---\n",
      "2024-10-20T23:12:12.528\tmatname: Norris/fv3, algorithm: GL\n",
      "2024-10-20T23:12:25.710\tmatname: Norris/fv3, algorithm: DE\n",
      "2024-10-20T23:12:39.074\tmatname: Norris/fv3, algorithm: PGL\n",
      "2024-10-20T23:12:52.245\tmatname: Norris/fv3, algorithm: PDE\n",
      "2024-10-20T23:13:04.347\t======= Lourakis/bundle1 ========\n",
      "2024-10-20T23:13:07.042\tn =  10581, κ = 1.004e+03\n",
      "2024-10-20T23:13:07.043\t--- get #inv data ---\n",
      "2024-10-20T23:13:07.043\tmatname: Lourakis/bundle1, algorithm: GL\n",
      "2024-10-20T23:13:09.088\tmatname: Lourakis/bundle1, algorithm: DE\n",
      "2024-10-20T23:13:11.259\tmatname: Lourakis/bundle1, algorithm: PGL\n",
      "2024-10-20T23:13:12.877\tmatname: Lourakis/bundle1, algorithm: PDE\n",
      "2024-10-20T23:13:16.255\t--- get time data ---\n",
      "2024-10-20T23:13:16.255\tmatname: Lourakis/bundle1, algorithm: GL\n",
      "2024-10-20T23:13:30.461\tmatname: Lourakis/bundle1, algorithm: DE\n",
      "2024-10-20T23:13:46.840\tmatname: Lourakis/bundle1, algorithm: PGL\n",
      "2024-10-20T23:14:04.957\tmatname: Lourakis/bundle1, algorithm: PDE\n",
      "2024-10-20T23:14:25.018\t======= Boeing/crystm02 ========\n",
      "2024-10-20T23:14:25.448\tn =  13965, κ = 2.505e+02\n",
      "2024-10-20T23:14:25.449\t--- get #inv data ---\n",
      "2024-10-20T23:14:25.449\tmatname: Boeing/crystm02, algorithm: GL\n",
      "2024-10-20T23:14:27.095\tmatname: Boeing/crystm02, algorithm: DE\n",
      "2024-10-20T23:14:29.764\tmatname: Boeing/crystm02, algorithm: PGL\n",
      "2024-10-20T23:14:31.368\tmatname: Boeing/crystm02, algorithm: PDE\n",
      "2024-10-20T23:14:35.512\t--- get time data ---\n",
      "2024-10-20T23:14:35.513\tmatname: Boeing/crystm02, algorithm: GL\n",
      "2024-10-20T23:14:48.856\tmatname: Boeing/crystm02, algorithm: DE\n",
      "2024-10-20T23:15:06.293\tmatname: Boeing/crystm02, algorithm: PGL\n",
      "2024-10-20T23:15:25.371\tmatname: Boeing/crystm02, algorithm: PDE\n",
      "2024-10-20T23:15:50.678\t======= ACUSIM/Pres_Poisson ========\n",
      "2024-10-20T23:15:51.384\tn =  14822, κ = 3.511e+05\n",
      "2024-10-20T23:15:51.385\t--- get #inv data ---\n",
      "2024-10-20T23:15:51.385\tmatname: ACUSIM/Pres_Poisson, algorithm: GL\n",
      "2024-10-20T23:16:28.719\tmatname: ACUSIM/Pres_Poisson, algorithm: DE\n",
      "2024-10-20T23:16:42.371\tmatname: ACUSIM/Pres_Poisson, algorithm: PGL\n",
      "2024-10-20T23:16:57.133\tmatname: ACUSIM/Pres_Poisson, algorithm: PDE\n",
      "2024-10-20T23:17:14.732\t--- get time data ---\n",
      "2024-10-20T23:17:14.733\tmatname: ACUSIM/Pres_Poisson, algorithm: GL\n",
      "2024-10-20T23:19:08.117\tmatname: ACUSIM/Pres_Poisson, algorithm: DE\n",
      "2024-10-20T23:19:52.399\tmatname: ACUSIM/Pres_Poisson, algorithm: PGL\n",
      "2024-10-20T23:20:38.647\tmatname: ACUSIM/Pres_Poisson, algorithm: PDE\n",
      "2024-10-20T23:21:33.224\t======= UTEP/Dubcova1 ========\n",
      "2024-10-20T23:21:33.525\tn =  16129, κ = 6.788e+04\n",
      "2024-10-20T23:21:33.525\t--- get #inv data ---\n",
      "2024-10-20T23:21:33.526\tmatname: UTEP/Dubcova1, algorithm: GL\n",
      "2024-10-20T23:21:43.681\tmatname: UTEP/Dubcova1, algorithm: DE\n",
      "2024-10-20T23:21:48.326\tmatname: UTEP/Dubcova1, algorithm: PGL\n",
      "2024-10-20T23:21:53.047\tmatname: UTEP/Dubcova1, algorithm: PDE\n",
      "2024-10-20T23:22:00.063\t--- get time data ---\n",
      "2024-10-20T23:22:00.063\tmatname: UTEP/Dubcova1, algorithm: GL\n",
      "2024-10-20T23:22:31.208\tmatname: UTEP/Dubcova1, algorithm: DE\n",
      "2024-10-20T23:23:00.143\tmatname: UTEP/Dubcova1, algorithm: PGL\n",
      "2024-10-20T23:23:29.268\tmatname: UTEP/Dubcova1, algorithm: PDE\n",
      "2024-10-20T23:23:51.298\t======= Oberwolfach/gyro_m ========\n",
      "2024-10-20T23:23:51.643\tn =  17361, κ = 1.199e+06\n",
      "2024-10-20T23:23:51.643\t--- get #inv data ---\n",
      "2024-10-20T23:23:51.643\tmatname: Oberwolfach/gyro_m, algorithm: GL\n",
      "2024-10-20T23:24:16.224\tmatname: Oberwolfach/gyro_m, algorithm: DE\n",
      "2024-10-20T23:24:23.114\tmatname: Oberwolfach/gyro_m, algorithm: PGL\n",
      "2024-10-20T23:24:30.784\tmatname: Oberwolfach/gyro_m, algorithm: PDE\n",
      "2024-10-20T23:24:39.512\t--- get time data ---\n",
      "2024-10-20T23:24:39.513\tmatname: Oberwolfach/gyro_m, algorithm: GL\n",
      "2024-10-20T23:25:53.681\tmatname: Oberwolfach/gyro_m, algorithm: DE\n",
      "2024-10-20T23:26:15.537\tmatname: Oberwolfach/gyro_m, algorithm: PGL\n",
      "2024-10-20T23:26:39.832\tmatname: Oberwolfach/gyro_m, algorithm: PDE\n",
      "2024-10-20T23:27:06.261\t======= Pothen/bodyy5 ========\n",
      "2024-10-20T23:27:06.741\tn =  18589, κ = 7.873e+03\n",
      "2024-10-20T23:27:06.741\t--- get #inv data ---\n",
      "2024-10-20T23:27:06.741\tmatname: Pothen/bodyy5, algorithm: GL\n",
      "2024-10-20T23:27:08.728\tmatname: Pothen/bodyy5, algorithm: DE\n",
      "2024-10-20T23:27:10.577\tmatname: Pothen/bodyy5, algorithm: PGL\n",
      "2024-10-20T23:27:11.863\tmatname: Pothen/bodyy5, algorithm: PDE\n",
      "2024-10-20T23:27:14.095\t--- get time data ---\n",
      "2024-10-20T23:27:14.096\tmatname: Pothen/bodyy5, algorithm: GL\n",
      "2024-10-20T23:27:28.894\tmatname: Pothen/bodyy5, algorithm: DE\n",
      "2024-10-20T23:27:42.750\tmatname: Pothen/bodyy5, algorithm: PGL\n",
      "2024-10-20T23:27:57.869\tmatname: Pothen/bodyy5, algorithm: PDE\n",
      "2024-10-20T23:28:14.489\t======= Pothen/bodyy6 ========\n",
      "2024-10-20T23:28:15.334\tn =  19366, κ = 7.694e+04\n",
      "2024-10-20T23:28:15.334\t--- get #inv data ---\n",
      "2024-10-20T23:28:15.334\tmatname: Pothen/bodyy6, algorithm: GL\n",
      "2024-10-20T23:28:19.185\tmatname: Pothen/bodyy6, algorithm: DE\n",
      "2024-10-20T23:28:21.569\tmatname: Pothen/bodyy6, algorithm: PGL\n",
      "2024-10-20T23:28:23.856\tmatname: Pothen/bodyy6, algorithm: PDE\n",
      "2024-10-20T23:28:26.891\t--- get time data ---\n",
      "2024-10-20T23:28:26.891\tmatname: Pothen/bodyy6, algorithm: GL\n",
      "2024-10-20T23:28:51.132\tmatname: Pothen/bodyy6, algorithm: DE\n",
      "2024-10-20T23:29:08.564\tmatname: Pothen/bodyy6, algorithm: PGL\n",
      "2024-10-20T23:29:23.501\tmatname: Pothen/bodyy6, algorithm: PDE\n",
      "2024-10-20T23:29:42.565\tfinished!\n"
     ]
    }
   ],
   "source": [
    "print_log(\"start!\")\n",
    "\n",
    "m = length(matnames)\n",
    "a = length(algorithms)\n",
    "TimeData = zeros(m, a)\n",
    "InvData = zeros(m, a)\n",
    "ϵ = 1e-12\n",
    "for (i, matname) in enumerate(matnames)\n",
    "    print_log(\"======= $(matname) ========\")\n",
    "    A = matrixdepot(matname)\n",
    "    λ_max, λ_min = compute_extreme_eigenvalues(A)\n",
    "    κ = λ_max / λ_min\n",
    "    A = A / sqrt(λ_max*λ_min)\n",
    "    λ_max = sqrt(κ)\n",
    "    λ_min = 1 / sqrt(κ)\n",
    "    n = size(A, 1)\n",
    "    b = ones(n) |> normalize\n",
    "\n",
    "    print_log(@sprintf(\"n = %6d, κ = %.3e\", n, κ))\n",
    "\n",
    "    print_log(\"--- get #inv data ---\")\n",
    "    for (j, algorithm) in enumerate(algorithms)\n",
    "        print_log(\"matname: $(matname), algorithm: $(algorithm)\")\n",
    "        if algorithm == :GL\n",
    "            m = logm_gl(A, λ_max, λ_min, B=b, ϵ=ϵ, m=nothing).m\n",
    "        elseif algorithm == :DE\n",
    "            m = logm_de(A, λ_max, λ_min, B=b, ϵ=ϵ, m=nothing).m\n",
    "        elseif algorithm == :PGL\n",
    "            m = logm_pgl(A, λ_max, λ_min, B=b, ϵ=ϵ, m=nothing).m\n",
    "        elseif algorithm == :PDE\n",
    "            m = logm_pde(A, λ_max, λ_min, B=b, ϵ=ϵ, m=nothing).m\n",
    "        end\n",
    "        InvData[i,j] = m\n",
    "    end\n",
    "\n",
    "    print_log(\"--- get time data ---\")\n",
    "    for (j, algorithm) in enumerate(algorithms)\n",
    "        print_log(\"matname: $(matname), algorithm: $(algorithm)\")\n",
    "        if algorithm == :GL\n",
    "            b_result = @benchmark logm_gl($A, $λ_max, $λ_min, B=$b, ϵ=$ϵ, m=nothing)\n",
    "        elseif algorithm == :DE\n",
    "            b_result = @benchmark logm_de($A, $λ_max, $λ_min, B=$b, ϵ=$ϵ, m=nothing)\n",
    "        elseif algorithm == :PGL\n",
    "            b_result = @benchmark logm_pgl($A, $λ_max, $λ_min, B=$b, ϵ=$ϵ, m=nothing)\n",
    "        elseif algorithm == :PDE\n",
    "            b_result = @benchmark logm_pde($A, $λ_max, $λ_min, B=$b, ϵ=$ϵ, m=nothing)\n",
    "        end\n",
    "        TimeData[i,j] = mean(b_result).time / 1e9\n",
    "    end\n",
    "end\n",
    "\n",
    "print_log(\"finished!\")"
   ]
  },
  {
   "cell_type": "code",
   "execution_count": 9,
   "id": "b7a3486b-6e10-47b8-b562-0f69becdd29d",
   "metadata": {},
   "outputs": [
    {
     "data": {
      "text/plain": [
       "10×4 Matrix{Float64}:\n",
       "  46.0  50.0  36.0  68.0\n",
       " 100.0  64.0  54.0  84.0\n",
       "  49.0  53.0  38.0  72.0\n",
       "  41.0  48.0  34.0  70.0\n",
       "  29.0  45.0  28.0  68.0\n",
       " 179.0  76.0  74.0  94.0\n",
       " 119.0  64.0  60.0  90.0\n",
       " 244.0  81.0  86.0  96.0\n",
       "  69.0  59.0  44.0  74.0\n",
       " 122.0  68.0  60.0  90.0"
      ]
     },
     "execution_count": 9,
     "metadata": {},
     "output_type": "execute_result"
    }
   ],
   "source": [
    "InvData"
   ]
  },
  {
   "cell_type": "code",
   "execution_count": 10,
   "id": "95b3a027-9711-4250-88fa-5b0b5c4db46d",
   "metadata": {},
   "outputs": [
    {
     "data": {
      "text/plain": [
       "10×4 Matrix{Float64}:\n",
       "  0.00324341   0.00344275   0.00250769   0.00467736\n",
       "  6.17444      3.33882      3.16518      4.74693\n",
       "  0.570365     0.653544     0.434923     0.858303\n",
       "  1.89244      2.20696      1.54944      3.16249\n",
       "  1.80016      2.74815      1.63308      4.11791\n",
       " 37.303       13.8697      15.1301      17.7392\n",
       " 10.0623       4.67034      4.7066       7.02706\n",
       " 24.3615       6.97295      7.56155      8.50846\n",
       "  1.9876       1.85471      1.29147      2.2437\n",
       "  3.90966      2.37918      1.9956       2.99982"
      ]
     },
     "execution_count": 10,
     "metadata": {},
     "output_type": "execute_result"
    }
   ],
   "source": [
    "TimeData"
   ]
  },
  {
   "cell_type": "code",
   "execution_count": 13,
   "id": "2d2c23e2-91b6-42d3-b6a9-bac1051c6209",
   "metadata": {},
   "outputs": [
    {
     "data": {
      "text/plain": [
       "10×4 Matrix{Float64}:\n",
       "  0.00324341   0.00344275   0.00250769   0.00467736\n",
       "  6.17444      3.33882      3.16518      4.74693\n",
       "  0.570365     0.653544     0.434923     0.858303\n",
       "  1.89244      2.20696      1.54944      3.16249\n",
       "  1.80016      2.74815      1.63308      4.11791\n",
       " 37.303       13.8697      15.1301      17.7392\n",
       " 10.0623       4.67034      4.7066       7.02706\n",
       " 24.3615       6.97295      7.56155      8.50846\n",
       "  1.9876       1.85471      1.29147      2.2437\n",
       "  3.90966      2.37918      1.9956       2.99982"
      ]
     },
     "execution_count": 13,
     "metadata": {},
     "output_type": "execute_result"
    }
   ],
   "source": [
    "InvData = [\n",
    " 46.0  50.0  36.0  68.0\n",
    " 100.0  64.0  54.0  84.0\n",
    "  49.0  53.0  38.0  72.0\n",
    "  41.0  48.0  34.0  70.0\n",
    "  29.0  45.0  28.0  68.0\n",
    " 179.0  76.0  74.0  94.0\n",
    " 119.0  64.0  60.0  90.0\n",
    " 244.0  81.0  86.0  96.0\n",
    "  69.0  59.0  44.0  74.0\n",
    " 122.0  68.0  60.0  90.0\n",
    "]\n",
    "TimeData = [\n",
    "  0.00324341   0.00344275   0.00250769   0.00467736\n",
    "  6.17444      3.33882      3.16518      4.74693\n",
    "  0.570365     0.653544     0.434923     0.858303\n",
    "  1.89244      2.20696      1.54944      3.16249\n",
    "  1.80016      2.74815      1.63308      4.11791\n",
    " 37.303       13.8697      15.1301      17.7392\n",
    " 10.0623       4.67034      4.7066       7.02706\n",
    " 24.3615       6.97295      7.56155      8.50846\n",
    "  1.9876       1.85471      1.29147      2.2437\n",
    "  3.90966      2.37918      1.9956       2.99982\n",
    "]"
   ]
  },
  {
   "cell_type": "code",
   "execution_count": 15,
   "id": "2e9e5c4f-72ec-4972-8c0b-d5bc94cb36c8",
   "metadata": {},
   "outputs": [
    {
     "name": "stdout",
     "output_type": "stream",
     "text": [
      "Matrix & GL & DE & PGL & PDE\\\\\n",
      "\\texttt{nos4} & 0.00 (46) & 0.00 (50) & \\textbf{0.00 (36)} & 0.00 (68)\\\\\n",
      "\\texttt{Kuu} & 6.17 (100) & 3.34 (64) & \\textbf{3.17 (54)} & 4.75 (84)\\\\\n",
      "\\texttt{fv3} & 0.57 (49) & 0.65 (53) & \\textbf{0.43 (38)} & 0.86 (72)\\\\\n",
      "\\texttt{bundle1} & 1.89 (41) & 2.21 (48) & \\textbf{1.55 (34)} & 3.16 (70)\\\\\n",
      "\\texttt{crystm02} & 1.80 (29) & 2.75 (45) & \\textbf{1.63 (28)} & 4.12 (68)\\\\\n",
      "\\texttt{Pres_Poisson} & 37.30 (179) & \\textbf{13.87 (76)} & 15.13 (74) & 17.74 (94)\\\\\n",
      "\\texttt{Dubcova1} & 10.06 (119) & \\textbf{4.67 (64)} & 4.71 (60) & 7.03 (90)\\\\\n",
      "\\texttt{gyro_m} & 24.36 (244) & \\textbf{6.97 (81)} & 7.56 (86) & 8.51 (96)\\\\\n",
      "\\texttt{bodyy5} & 1.99 (69) & 1.85 (59) & \\textbf{1.29 (44)} & 2.24 (74)\\\\\n",
      "\\texttt{bodyy6} & 3.91 (122) & 2.38 (68) & \\textbf{2.00 (60)} & 3.00 (90)\\\\"
     ]
    }
   ],
   "source": [
    "lines = []\n",
    "\n",
    "line = \"Matrix & \" * join(algorithms, \" & \") * \"\\\\\\\\\"\n",
    "push!(lines, line)\n",
    "for (i, matname) in enumerate(matnames)\n",
    "    j_min = argmin(TimeData[i, :])\n",
    "    elements = []\n",
    "    for (j, algorithm) in enumerate(algorithms)\n",
    "        m = @sprintf(\"%d\", InvData[i, j])\n",
    "        t = @sprintf(\"%.2f\", TimeData[i,j])\n",
    "        element = \"$(t) ($(m))\"\n",
    "        if j == j_min\n",
    "            element = \"\\\\textbf{$(element)}\"\n",
    "        end\n",
    "        push!(elements, element)\n",
    "    end\n",
    "    M = split(matname, \"/\")[end]\n",
    "    line = \"\\\\texttt{$(M)} & \" * join(elements, \" & \") * \"\\\\\\\\\"\n",
    "    push!(lines, line)\n",
    "end\n",
    "\n",
    "print(join(lines, \"\\n\"))"
   ]
  }
 ],
 "metadata": {
  "kernelspec": {
   "display_name": "Julia 1.11.1",
   "language": "julia",
   "name": "julia-1.11"
  },
  "language_info": {
   "file_extension": ".jl",
   "mimetype": "application/julia",
   "name": "julia",
   "version": "1.11.1"
  }
 },
 "nbformat": 4,
 "nbformat_minor": 5
}
