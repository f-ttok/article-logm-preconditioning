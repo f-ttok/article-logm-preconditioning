{
 "cells": [
  {
   "cell_type": "code",
   "execution_count": 1,
   "id": "083eca6e-bb46-4c2e-b15c-df08e95bb2b5",
   "metadata": {},
   "outputs": [
    {
     "name": "stdout",
     "output_type": "stream",
     "text": [
      "Julia Version 1.11.1\n",
      "Commit 8f5b7ca12a (2024-10-16 10:53 UTC)\n",
      "Build Info:\n",
      "  Official https://julialang.org/ release\n",
      "Platform Info:\n",
      "  OS: Windows (x86_64-w64-mingw32)\n",
      "  CPU: 8 × Intel(R) Core(TM) i7-9700K CPU @ 3.60GHz\n",
      "  WORD_SIZE: 64\n",
      "  LLVM: libLLVM-16.0.6 (ORCJIT, skylake)\n",
      "Threads: 1 default, 0 interactive, 1 GC (on 8 virtual cores)\n",
      "Environment:\n",
      "  JULIA_DEPOT_PATH = E:\\Users\\tate\\.julia\n",
      "  JULIA_PYTHONCALL_EXE = python\n"
     ]
    }
   ],
   "source": [
    "versioninfo()"
   ]
  },
  {
   "cell_type": "code",
   "execution_count": null,
   "id": "c60ff0f7",
   "metadata": {},
   "outputs": [],
   "source": []
  },
  {
   "cell_type": "code",
   "execution_count": 2,
   "id": "7495cf5b-a180-4810-bfb3-6d5d31df5fbc",
   "metadata": {},
   "outputs": [
    {
     "name": "stderr",
     "output_type": "stream",
     "text": [
      "\u001b[32m\u001b[1m  Activating\u001b[22m\u001b[39m project at `E:\\Users\\tate\\Repo\\article-logm-preconditioning`\n"
     ]
    }
   ],
   "source": [
    "using Pkg\n",
    "Pkg.activate(\".\")"
   ]
  },
  {
   "cell_type": "code",
   "execution_count": 3,
   "id": "b33d140e-a7d2-4a29-956b-ec342fe47c21",
   "metadata": {},
   "outputs": [
    {
     "name": "stderr",
     "output_type": "stream",
     "text": [
      "\u001b[36m\u001b[1m[ \u001b[22m\u001b[39m\u001b[36m\u001b[1mInfo: \u001b[22m\u001b[39mverify download of index files...\n",
      "\u001b[36m\u001b[1m[ \u001b[22m\u001b[39m\u001b[36m\u001b[1mInfo: \u001b[22m\u001b[39mreading database\n"
     ]
    },
    {
     "name": "stdout",
     "output_type": "stream",
     "text": [
      "EOFError()\n"
     ]
    },
    {
     "name": "stderr",
     "output_type": "stream",
     "text": [
      "\u001b[33m\u001b[1m┌ \u001b[22m\u001b[39m\u001b[33m\u001b[1mWarning: \u001b[22m\u001b[39mrecreating database file\n",
      "\u001b[33m\u001b[1m└ \u001b[22m\u001b[39m\u001b[90m@ MatrixDepot E:\\Users\\tate\\.julia\\packages\\MatrixDepot\\4S7Oa\\src\\download.jl:59\u001b[39m\n",
      "\u001b[36m\u001b[1m[ \u001b[22m\u001b[39m\u001b[36m\u001b[1mInfo: \u001b[22m\u001b[39mreading index files\n",
      "\u001b[36m\u001b[1m[ \u001b[22m\u001b[39m\u001b[36m\u001b[1mInfo: \u001b[22m\u001b[39madding metadata...\n",
      "\u001b[36m\u001b[1m[ \u001b[22m\u001b[39m\u001b[36m\u001b[1mInfo: \u001b[22m\u001b[39madding svd data...\n",
      "\u001b[36m\u001b[1m[ \u001b[22m\u001b[39m\u001b[36m\u001b[1mInfo: \u001b[22m\u001b[39mwriting database\n",
      "\u001b[33m\u001b[1m┌ \u001b[22m\u001b[39m\u001b[33m\u001b[1mWarning: \u001b[22m\u001b[39mexception during initialization: 'KeyError(MatrixDepot)'\n",
      "\u001b[33m\u001b[1m└ \u001b[22m\u001b[39m\u001b[90m@ MatrixDepot E:\\Users\\tate\\.julia\\packages\\MatrixDepot\\4S7Oa\\src\\MatrixDepot.jl:125\u001b[39m\n"
     ]
    }
   ],
   "source": [
    "using LinearAlgebra\n",
    "\n",
    "using MatrixDepot\n",
    "using PythonPlot\n",
    "\n",
    "PythonPlot.matplotlib.rcParams[\"font.size\"] = 10\n",
    "PythonPlot.matplotlib.rcParams[\"axes.titlesize\"] = 10;"
   ]
  },
  {
   "cell_type": "code",
   "execution_count": 4,
   "id": "f7626982-2a40-4cc5-adca-064cbf534c38",
   "metadata": {},
   "outputs": [
    {
     "data": {
      "text/plain": [
       "eigen_sttm"
      ]
     },
     "execution_count": 4,
     "metadata": {},
     "output_type": "execute_result"
    }
   ],
   "source": [
    "\"\"\"\n",
    "Computing the eigenvalues/eigenvectors of \n",
    "a symmetric tridiag Toeplitz matrices with size n\n",
    "whose diagonals are d0 and subdiagonals are d1.\n",
    "\"\"\"\n",
    "function eigen_sttm(d0, d1, n)\n",
    "    λ = [d0 + d1*2*cos(j*big(π)/(n+1)) for j=1:n]\n",
    "    Q = [\n",
    "        begin\n",
    "            x = (i*j) // (n+1)\n",
    "            a = (i*j) ÷ (n+1)\n",
    "            b = x - big(a)\n",
    "            (-1)^a * sin(b*π)\n",
    "        end\n",
    "        for i=1:n, j=1:n\n",
    "    ]\n",
    "    for j = 1:n\n",
    "        Q[:, j] .= normalize(Q[:, j])\n",
    "    end\n",
    "    return λ, Q\n",
    "end"
   ]
  },
  {
   "cell_type": "code",
   "execution_count": 5,
   "id": "04cb998b-2ab3-4a91-8b98-eff938839f4a",
   "metadata": {},
   "outputs": [
    {
     "data": {
      "text/plain": [
       "200×200 Matrix{Float64}:\n",
       "  63.9829  -31.9914    0.0       0.0     …    0.0       0.0       0.0\n",
       " -31.9914   63.9829  -31.9914    0.0          0.0       0.0       0.0\n",
       "   0.0     -31.9914   63.9829  -31.9914       0.0       0.0       0.0\n",
       "   0.0       0.0     -31.9914   63.9829       0.0       0.0       0.0\n",
       "   0.0       0.0       0.0     -31.9914       0.0       0.0       0.0\n",
       "   0.0       0.0       0.0       0.0     …    0.0       0.0       0.0\n",
       "   0.0       0.0       0.0       0.0          0.0       0.0       0.0\n",
       "   0.0       0.0       0.0       0.0          0.0       0.0       0.0\n",
       "   0.0       0.0       0.0       0.0          0.0       0.0       0.0\n",
       "   0.0       0.0       0.0       0.0          0.0       0.0       0.0\n",
       "   0.0       0.0       0.0       0.0     …    0.0       0.0       0.0\n",
       "   0.0       0.0       0.0       0.0          0.0       0.0       0.0\n",
       "   0.0       0.0       0.0       0.0          0.0       0.0       0.0\n",
       "   ⋮                                     ⋱                      \n",
       "   0.0       0.0       0.0       0.0          0.0       0.0       0.0\n",
       "   0.0       0.0       0.0       0.0          0.0       0.0       0.0\n",
       "   0.0       0.0       0.0       0.0     …    0.0       0.0       0.0\n",
       "   0.0       0.0       0.0       0.0          0.0       0.0       0.0\n",
       "   0.0       0.0       0.0       0.0          0.0       0.0       0.0\n",
       "   0.0       0.0       0.0       0.0          0.0       0.0       0.0\n",
       "   0.0       0.0       0.0       0.0          0.0       0.0       0.0\n",
       "   0.0       0.0       0.0       0.0     …    0.0       0.0       0.0\n",
       "   0.0       0.0       0.0       0.0        -31.9914    0.0       0.0\n",
       "   0.0       0.0       0.0       0.0         63.9829  -31.9914    0.0\n",
       "   0.0       0.0       0.0       0.0        -31.9914   63.9829  -31.9914\n",
       "   0.0       0.0       0.0       0.0          0.0     -31.9914   63.9829"
      ]
     },
     "execution_count": 5,
     "metadata": {},
     "output_type": "execute_result"
    }
   ],
   "source": [
    "n = 200\n",
    "\n",
    "# reference_solution\n",
    "λ, Q = eigen_sttm(2, -1, n)\n",
    "λ_max, λ_min = maximum(λ), minimum(λ)\n",
    "c = 1 / sqrt(λ_max*λ_min)\n",
    "log_Ã = Float64.(Q * Diagonal(log.(λ) .+ log(c)) * Q');\n",
    "\n",
    "# computing ÃP̃ and P̃ exactry\n",
    "P̃ = Q * Diagonal(@. 1 / (c*λ + 1)) * Q' |> X -> Float64.(X)\n",
    "log_P̃ = (Q * Diagonal(@. -log(c*λ + 1)) * Q') |> X -> Float64.(X)\n",
    "ÃP̃ = Q * Diagonal(@. c*λ / (c*λ + 1)) * Q' |> X -> Float64.(X)\n",
    "log_ÃP̃ = Q * Diagonal(@. log(c*λ) - log(c*λ + 1)) * Q' |> X -> Float64.(X);\n",
    "\n",
    "# Test matrix\n",
    "d0 = fill(2.0, n)\n",
    "d1 = fill(-1.0, n-1)\n",
    "\n",
    "A = diagm(-1=>d1, 0=>d0, 1=>d1)\n",
    "λ = [2 - 2*cos(j*π/(n+1)) for j=1:n]\n",
    "λ_max, λ_min = maximum(λ), minimum(λ)\n",
    "c = 1 / sqrt(λ_max*λ_min)\n",
    "Ã = c*A\n",
    "# κ = λ_max / λ_min\n",
    "# sκ = sqrt(κ)\n",
    "# cc = sqrt((sκ+1)*(1/sκ + 1)) # = c' = c''"
   ]
  },
  {
   "cell_type": "code",
   "execution_count": 6,
   "id": "5211ad07-3e59-49de-a10a-25fae5796b68",
   "metadata": {},
   "outputs": [],
   "source": [
    "include(\"src/SPDLogmPrecQuad.jl\")\n",
    "using ..SPDLogmPrecQuad"
   ]
  },
  {
   "cell_type": "code",
   "execution_count": 7,
   "id": "d06bc89c-39cc-4ab0-ac6b-8570ea1f47d7",
   "metadata": {},
   "outputs": [],
   "source": [
    "m_list = 4:4:100\n",
    "l = length(m_list)\n",
    "err_de = zeros(l)\n",
    "err_gl = zeros(l)\n",
    "err_pgl = zeros(l)\n",
    "err_gl_ÃP̃ = zeros(l)\n",
    "err_gl_P̃ = zeros(l)\n",
    "\n",
    "μ_max, μ_min = c*λ_max / (c*λ_max + 1), c*λ_min / (c*λ_min + 1)\n",
    "ν_max, ν_min = 1 / (c*λ_min + 1), 1 / (c*λ_max + 1)\n",
    "\n",
    "for (i, m) in enumerate(m_list)\n",
    "    err_de[i] = opnorm(log_Ã - logm_de(Ã, c*λ_max, c*λ_min, m=m).X)\n",
    "    err_gl[i] = opnorm(log_Ã - logm_gl(Ã, c*λ_max, c*λ_min, m=m).X)\n",
    "    err_pgl[i] = opnorm(log_Ã - logm_pgl(Ã, c*λ_max, c*λ_min, m=m÷2).X)\n",
    "    err_gl_ÃP̃[i] = opnorm(log_ÃP̃ - logm_gl(ÃP̃, μ_max, μ_min, m=m).X)\n",
    "    err_gl_P̃[i] = opnorm(log_P̃ - logm_gl(P̃, ν_max, ν_min, m=m).X)\n",
    "end"
   ]
  },
  {
   "cell_type": "code",
   "execution_count": 8,
   "id": "4d2f9cfe-2f71-4efd-bfae-6b8890cd4c0a",
   "metadata": {},
   "outputs": [
    {
     "name": "stderr",
     "output_type": "stream",
     "text": [
      "sys:1: UserWarning: FigureCanvasAgg is non-interactive, and thus cannot be shown\n"
     ]
    },
    {
     "data": {
      "image/png": "[encoded data removed]",
      "text/plain": [
       "Figure(<py Figure size 407.407x333.333 with 1 Axes>)"
      ]
     },
     "metadata": {},
     "output_type": "display_data"
    }
   ],
   "source": [
    "fig, ax = subplots(1, 1, figsize=[11, 9]/2.7)\n",
    "\n",
    "ax.plot(m_list, err_de, label=\"DE\", lw=2, c=\"k\")\n",
    "ax.plot(m_list, err_gl, label=\"GL\", c=\"tab:blue\", marker=\"s\", lw=1)\n",
    "ax.plot(m_list, err_pgl, label=\"PGL\", c=\"tab:red\", marker=\"o\", lw=1, mew=1.5, mfc=\"none\", ms=8)\n",
    "ax.plot(m_list, err_gl_ÃP̃, label=\"GL \\$\\\\log(c'\\\\tilde{A}\\\\tilde{P}_1)\\$\", c=\"tab:orange\", lw=0, marker=\"+\", ms=9, mew=1.75)\n",
    "ax.plot(m_list, err_gl_P̃, label=\"GL \\$\\\\log(c''\\\\tilde{P}_1)\\$\", c=\"tab:orange\", lw=0, marker=\"x\", ms=7, mew=1.75)\n",
    "ax.set_xlabel(\"Abscissas\")\n",
    "ax.set_ylabel(\"Abs. Err. (2-norm)\")\n",
    "ax.set_yscale(\"log\")\n",
    "ax.set_yticks([1e-12, 1e-8, 1e-4, 1e0])\n",
    "ax.grid()\n",
    "ax.legend()\n",
    "fig.tight_layout()\n",
    "fig.savefig(\"fig/history.pdf\")\n",
    "plotshow()"
   ]
  }
 ],
 "metadata": {
  "kernelspec": {
   "display_name": "Julia 1.11.1",
   "language": "julia",
   "name": "julia-1.11"
  },
  "language_info": {
   "file_extension": ".jl",
   "mimetype": "application/julia",
   "name": "julia",
   "version": "1.11.1"
  }
 },
 "nbformat": 4,
 "nbformat_minor": 5
}
